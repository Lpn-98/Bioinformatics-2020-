{
 "cells": [
  {
   "cell_type": "code",
   "execution_count": 44,
   "metadata": {},
   "outputs": [],
   "source": [
    "import numpy as np\n",
    "import random\n",
    "import matplotlib.pyplot as plt\n",
    "\n",
    "def get_all(s,s1,s2):\n",
    "    tem1=s.split(\",\")\n",
    "    tem2=[a.strip() for a in tem1]\n",
    "    list1=[a.split(\" \") for a in tem2]\n",
    "    list_s1=list(s1)\n",
    "    list_s2=list(s2)\n",
    "    return list1,list_s1,list_s2\n",
    "\n",
    "def score_alignment(list1,list_s1,list_s2):\n",
    "    score_=0\n",
    "    for i in range(len(list_s1)):\n",
    "        for j in range(len(list1)):\n",
    "            if (list1[j][0]==list_s1[i] and list1[j][1]==list_s2[i]) or (list1[j][0]==list_s2[i] and list1[j][1]==list_s1[i]):\n",
    "                score_=score_+int(list1[j][2])\n",
    "    return score_\n",
    "\n",
    "def random_shuffled(list1,list_s1,list_s2,num):\n",
    "    random_s2=[]\n",
    "    for i in range(num):\n",
    "        random_s2_shunxu=np.random.permutation(len(list_s2))\n",
    "        random_s2_list=[list_s2[j] for j in random_s2_shunxu]\n",
    "        random_s2.append(random_s2_list)\n",
    "    return random_s2\n",
    "\n",
    "test=\"A A 5, B B -1, A B 20\"\n",
    "s1='AAAAAB'\n",
    "s2='ABBBBBA'\n",
    "num=100\n",
    "\n",
    "list1,list_s1,list_s2=get_all(test,s1,s2)\n",
    "random_alignment=random_shuffled(list1,list_s1,list_s2,num)"
   ]
  },
  {
   "cell_type": "code",
   "execution_count": 46,
   "metadata": {},
   "outputs": [
    {
     "name": "stdout",
     "output_type": "stream",
     "text": [
      "[69, 84, 120, 69, 69, 69, 105, 69, 105, 84, 69, 84, 84, 84, 105, 105, 84, 69, 105, 69, 69, 69, 105, 105, 105, 69, 69, 69, 69, 69, 69, 105, 84, 69, 69, 69, 105, 69, 105, 84, 84, 84, 69, 84, 105, 69, 84, 69, 69, 69, 84, 84, 69, 69, 69, 105, 84, 69, 69, 84, 69, 69, 84, 69, 69, 69, 105, 69, 69, 69, 84, 69, 69, 84, 84, 84, 69, 69, 120, 105, 105, 69, 84, 84, 105, 84, 120, 69, 69, 69, 69, 105, 84, 84, 69, 105, 69, 84, 69, 105]\n"
     ]
    },
    {
     "data": {
      "image/png": "[encoded data removed]",
      "text/plain": [
       "<Figure size 432x288 with 1 Axes>"
      ]
     },
     "metadata": {
      "needs_background": "light"
     },
     "output_type": "display_data"
    }
   ],
   "source": [
    "a=[]\n",
    "for i in random_alignment:\n",
    "    a.append(score_alignment(list1,list_s1,i))\n",
    "print(a)\n",
    "\n",
    "import seaborn as sns\n",
    "import numpy as np\n",
    "import matplotlib.pyplot as plt\n",
    "\n",
    "# plt.hist(a)\n",
    "sns.distplot(a, bins=30)\n",
    "\n",
    "\n",
    "plt.show()"
   ]
  }
 ],
 "metadata": {
  "kernelspec": {
   "display_name": "Python 3",
   "language": "python",
   "name": "python3"
  },
  "language_info": {
   "codemirror_mode": {
    "name": "ipython",
    "version": 3
   },
   "file_extension": ".py",
   "mimetype": "text/x-python",
   "name": "python",
   "nbconvert_exporter": "python",
   "pygments_lexer": "ipython3",
   "version": "3.7.3"
  }
 },
 "nbformat": 4,
 "nbformat_minor": 2
}
