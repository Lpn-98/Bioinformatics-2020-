{
 "cells": [
  {
   "cell_type": "code",
   "execution_count": 119,
   "metadata": {},
   "outputs": [],
   "source": [
    "def UPGMA(llist,mode):\n",
    "    if mode==\"max\":\n",
    "        pass\n",
    "    if mode==\"min\":\n",
    "#         all_data=\n",
    "        min_data=min(min(p) for p in llist)\n",
    "        min_i,min_j=0,0\n",
    "        for i in range(len(llist)):\n",
    "            for j in range(len(llist[i])):\n",
    "                if llist[i][j]==min_data:\n",
    "                    min_i,min_j=i,j+i+1\n",
    "                    break\n",
    "    return min_data,min_i,min_j"
   ]
  },
  {
   "cell_type": "code",
   "execution_count": 120,
   "metadata": {},
   "outputs": [],
   "source": [
    "def get_df(llist):\n",
    "    len_llist=len(llist[0])+1\n",
    "    a=pd.DataFrame(np.zeros(len_llist*len_llist).reshape(len_llist,len_llist))\n",
    "    a=a.replace(0, \"\")\n",
    "    for i in range(a.shape[0]):\n",
    "        a.iloc[i,i]=\"\"\n",
    "    for i in range(len(llist)):\n",
    "        for j in range(len(llist[i])):\n",
    "            a.iloc[j+i+1,i]=llist[i][j]\n",
    "#             a.iloc[i,j+i+1]=llist[i][j]\n",
    "    return a"
   ]
  },
  {
   "cell_type": "code",
   "execution_count": 121,
   "metadata": {},
   "outputs": [
    {
     "name": "stdout",
     "output_type": "stream",
     "text": [
      "    0   1   2   3   4   5 6\n",
      "0                          \n",
      "1  19                      \n",
      "2  27  31                  \n",
      "3   8  18  26              \n",
      "4  33  36  41  31          \n",
      "5  18   1  32  17  35      \n",
      "6  13  13  29  14  28  12  \n",
      "(1, 1, 5)\n"
     ]
    }
   ],
   "source": [
    "b=[[19,27,8,33,18,13],[31,18,36,1,13],[26,41,32,29],[31,17,14],[35,28],[12]]\n",
    "c=get_df(b)\n",
    "print(c)\n",
    "print(UPGMA(b,\"min\"))"
   ]
  },
  {
   "cell_type": "code",
   "execution_count": null,
   "metadata": {},
   "outputs": [],
   "source": []
  }
 ],
 "metadata": {
  "kernelspec": {
   "display_name": "Python 3",
   "language": "python",
   "name": "python3"
  },
  "language_info": {
   "codemirror_mode": {
    "name": "ipython",
    "version": 3
   },
   "file_extension": ".py",
   "mimetype": "text/x-python",
   "name": "python",
   "nbconvert_exporter": "python",
   "pygments_lexer": "ipython3",
   "version": "3.7.3"
  }
 },
 "nbformat": 4,
 "nbformat_minor": 2
}
