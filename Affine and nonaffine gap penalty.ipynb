{
 "cells": [
  {
   "cell_type": "markdown",
   "metadata": {},
   "source": [
    "# Affine and nonaffine gap penalty"
   ]
  },
  {
   "cell_type": "markdown",
   "metadata": {},
   "source": [
    "【注意】：只考虑gap，没考虑match和dismatch的情况。"
   ]
  },
  {
   "cell_type": "code",
   "execution_count": 26,
   "metadata": {},
   "outputs": [],
   "source": [
    "def affine_gap_penalty(x,y,op,ex):\n",
    "    seq1,seq2=list(x),list(y)\n",
    "    len1,len2=len(seq1),len(seq2)\n",
    "    if len1!=len2:\n",
    "        return \"seq1和seq2长度不同，请检查！\"\n",
    "    gap_id=[]\n",
    "    for i in range(len1):\n",
    "        if seq1[i]==\"-\" or seq2[i]=='-':\n",
    "            gap_id.append(i)\n",
    "    if gap_id[-1]==len1-1:\n",
    "        m=len1\n",
    "        for j in gap_id[::-1]:\n",
    "            if j==m-1:\n",
    "                gap_id.remove(j)\n",
    "                m=j\n",
    "    res=0\n",
    "    if len(gap_id)==0:\n",
    "        return 0\n",
    "    m=gap_id[-1]+1\n",
    "    for j in gap_id[::-1]:\n",
    "        if j==m-1:\n",
    "            res+=ex\n",
    "            m=j\n",
    "        else:\n",
    "            res-=ex\n",
    "            res+=op\n",
    "            m=j\n",
    "    if len(gap_id)!=0:\n",
    "        res-=ex\n",
    "        res+=op\n",
    "    return res"
   ]
  },
  {
   "cell_type": "code",
   "execution_count": 28,
   "metadata": {},
   "outputs": [
    {
     "name": "stdout",
     "output_type": "stream",
     "text": [
      "请输入序列1：\n",
      "GATTTGCAC\n",
      "请输入序列2：\n",
      "GA---GCAC\n",
      "请输入a代表affine,n代表nonaffine：\n",
      "a\n",
      "请输入open a gap 的penalty：\n",
      "-12\n",
      "请输入extend gap 的penalty：\n",
      "-1\n",
      "------------结果为：---------\n",
      "-14\n"
     ]
    }
   ],
   "source": [
    "print(\"请输入序列1：\")\n",
    "x=input()\n",
    "print(\"请输入序列2：\")\n",
    "y=input()\n",
    "print(\"请输入a代表affine,n代表nonaffine：\")\n",
    "mode=input()\n",
    "if mode=='a':\n",
    "    print(\"请输入open a gap 的penalty：\")\n",
    "    op=int(input())\n",
    "    print(\"请输入extend gap 的penalty：\")\n",
    "    ex=int(input())\n",
    "elif mode=='n':\n",
    "    print(\"请输入penalty：\")\n",
    "    np=int(input())\n",
    "    op=np\n",
    "    ex=np\n",
    "print(\"------------结果为：---------\")\n",
    "print(affine_gap_penalty(x,y,op,ex))"
   ]
  },
  {
   "cell_type": "code",
   "execution_count": null,
   "metadata": {},
   "outputs": [],
   "source": []
  }
 ],
 "metadata": {
  "kernelspec": {
   "display_name": "Python 3",
   "language": "python",
   "name": "python3"
  },
  "language_info": {
   "codemirror_mode": {
    "name": "ipython",
    "version": 3
   },
   "file_extension": ".py",
   "mimetype": "text/x-python",
   "name": "python",
   "nbconvert_exporter": "python",
   "pygments_lexer": "ipython3",
   "version": "3.7.3"
  }
 },
 "nbformat": 4,
 "nbformat_minor": 2
}
